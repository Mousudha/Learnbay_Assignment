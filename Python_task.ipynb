{
 "cells": [
  {
   "cell_type": "code",
   "execution_count": 32,
   "metadata": {},
   "outputs": [
    {
     "name": "stdout",
     "output_type": "stream",
     "text": [
      "Enter the length for fibonacci series : 10\n",
      "0\n",
      "1\n",
      "1\n",
      "2\n",
      "3\n",
      "5\n",
      "8\n",
      "13\n",
      "21\n",
      "34\n"
     ]
    }
   ],
   "source": [
    "# Write a function to print fibonacci series.\n",
    "\n",
    "def fib(n):\n",
    "    \"\"\"\n",
    "    print the fibonacci series of length n.\n",
    "\n",
    "    The Fibonacci sequence is the series of numbers where each number is the sum \n",
    "    of the two preceding numbers. Fibonacci seriess stars with 0, 1 , .....\n",
    "\n",
    "    Parameters\n",
    "    ----------\n",
    "    a : int\n",
    "        First number to add.\n",
    "    b : int\n",
    "        Second number to add.\n",
    "\n",
    "    Returns\n",
    "    -------\n",
    "    series of int\n",
    "        The sum of ``a`` and ``b``.\n",
    "    \"\"\"\n",
    "\n",
    "    a = 0\n",
    "    b = 1\n",
    "    sum = 0\n",
    "    if n <= 0:\n",
    "        print('Input a number greater than 0')\n",
    "    elif n == 1:        \n",
    "        print(a)\n",
    "    else:\n",
    "        print(a)\n",
    "        print(b)\n",
    "        for i in range(0,n-2):\n",
    "            sum = a + b\n",
    "            a = b\n",
    "            b = sum\n",
    "            print(sum)\n",
    "            \n",
    "pali_len = int(input('Enter the length for fibonacci series : '))\n",
    "fib(pali_len)"
   ]
  },
  {
   "cell_type": "code",
   "execution_count": 2,
   "metadata": {},
   "outputs": [
    {
     "name": "stdout",
     "output_type": "stream",
     "text": [
      "Input a number to check for armstrong : 153\n",
      "153 is an Armstrong number. An Armstrong number, also known as narcissistic number,is a number that is equal to the sum of the cubes of its own digits.\n"
     ]
    }
   ],
   "source": [
    "# What are Armstrong numbers? Write a function if a number is Armstrong number or not.\n",
    "num = int(input('Input a number to check for armstrong : '))\n",
    "sum = 0 \n",
    "\n",
    "for i in str(num):\n",
    "    cube = int(i)**3\n",
    "    sum += cube\n",
    "\n",
    "if (num == sum):\n",
    "    print(num ,'is an Armstrong number. An Armstrong number, also known as narcissistic number,'\n",
    "          'is a number that is equal to the sum of the cubes of its own digits.')\n",
    "else:\n",
    "    print('Not an Armstrong number')\n",
    "    \n",
    "    "
   ]
  },
  {
   "cell_type": "code",
   "execution_count": 35,
   "metadata": {},
   "outputs": [
    {
     "name": "stdout",
     "output_type": "stream",
     "text": [
      "1. List are mutable while tuples are immutable. \n",
      "2. The list is surrounded by brackets [].The tuple is surrounded by parenthesis ()\n",
      "['mangoes', 'bananas', 'strawberries']\n"
     ]
    },
    {
     "ename": "TypeError",
     "evalue": "'tuple' object does not support item assignment",
     "output_type": "error",
     "traceback": [
      "\u001b[1;31m---------------------------------------------------------------------------\u001b[0m",
      "\u001b[1;31mTypeError\u001b[0m                                 Traceback (most recent call last)",
      "\u001b[1;32m<ipython-input-35-8c7afa287052>\u001b[0m in \u001b[0;36m<module>\u001b[1;34m\u001b[0m\n\u001b[0;32m      9\u001b[0m \u001b[1;33m\u001b[0m\u001b[0m\n\u001b[0;32m     10\u001b[0m \u001b[0mmy_tup\u001b[0m \u001b[1;33m=\u001b[0m \u001b[1;33m(\u001b[0m\u001b[1;34m\"mangoes\"\u001b[0m\u001b[1;33m,\u001b[0m \u001b[1;34m\"bananas\"\u001b[0m\u001b[1;33m,\u001b[0m \u001b[1;34m\"cherries\"\u001b[0m\u001b[1;33m)\u001b[0m\u001b[1;33m\u001b[0m\u001b[1;33m\u001b[0m\u001b[0m\n\u001b[1;32m---> 11\u001b[1;33m \u001b[0mmy_tup\u001b[0m\u001b[1;33m[\u001b[0m\u001b[1;36m2\u001b[0m\u001b[1;33m]\u001b[0m \u001b[1;33m=\u001b[0m \u001b[1;34m\"strawberries\"\u001b[0m\u001b[1;33m\u001b[0m\u001b[1;33m\u001b[0m\u001b[0m\n\u001b[0m\u001b[0;32m     12\u001b[0m \u001b[1;33m\u001b[0m\u001b[0m\n\u001b[0;32m     13\u001b[0m \u001b[0mprint\u001b[0m\u001b[1;33m(\u001b[0m\u001b[0mmy_tup\u001b[0m\u001b[1;33m)\u001b[0m\u001b[1;33m\u001b[0m\u001b[1;33m\u001b[0m\u001b[0m\n",
      "\u001b[1;31mTypeError\u001b[0m: 'tuple' object does not support item assignment"
     ]
    }
   ],
   "source": [
    "# Difference between list and tuple. Support your answer with coding example.\n",
    "print('1. List are mutable while tuples are immutable. \\n' \n",
    "      '2. The list is surrounded by brackets [].The tuple is surrounded by parenthesis ()')\n",
    "\n",
    "my_list = [\"mangoes\", \"bananas\", \"cherries\"]\n",
    "my_list[2] = \"strawberries\"\n",
    "\n",
    "print(my_list)\n",
    "\n",
    "my_tup = (\"mangoes\", \"bananas\", \"cherries\")\n",
    "my_tup[2] = \"strawberries\"\n",
    "\n",
    "print(my_tup)"
   ]
  },
  {
   "cell_type": "code",
   "execution_count": 4,
   "metadata": {},
   "outputs": [
    {
     "name": "stdout",
     "output_type": "stream",
     "text": [
      "A Python docstring is a string used to document a Python module, class, function or method, so programmers can understand what it does without having to read the details of theimplementation.\n"
     ]
    }
   ],
   "source": [
    "# What is python doc string ?\n",
    "\n",
    "print('A Python docstring is a string used to document a Python module, class, function or method,'\n",
    "      ' so programmers can understand what it does without having to read the details of the' \n",
    "      'implementation.')"
   ]
  },
  {
   "cell_type": "code",
   "execution_count": 6,
   "metadata": {},
   "outputs": [
    {
     "name": "stdout",
     "output_type": "stream",
     "text": [
      "PEP-8, or Python Enhancement Proposal, is the style guide for Python programming.It describes the rules for writing a beautiful and readable Python code.Following the PEP-8 style of coding will make sure there is consistency in your Python code, making it easier for other readers, contributors, or yourself, to comprehend it.\n"
     ]
    }
   ],
   "source": [
    "# What is the PEP 8 ?\n",
    "print('PEP-8, or Python Enhancement Proposal, is the style guide for Python programming.' \n",
    "      'It describes the rules for writing a beautiful and readable Python code.'\n",
    "      'Following the PEP-8 style of coding will make sure there is consistency in your Python code,'\n",
    "      ' making it easier for other readers, contributors, or yourself, to comprehend it.')"
   ]
  },
  {
   "cell_type": "code",
   "execution_count": 9,
   "metadata": {},
   "outputs": [
    {
     "data": {
      "text/plain": [
       "'\\nWe have xrange() function only in Python 2. In python 3, there is only range() function which behaves\\nlike the xrange() function in Python 2.\\nxrange() and range() both produce the integer numbr given between the range of start value and stop\\nvalue i.e. range(1,5,1) will produce numbers 1,2,3,4 and xrange (1, 5, 1) will also produce the same\\nnumbers. Difference mainly lies how each of them generate the numbers. range() returns a python range\\nobject. range(1,100,1) will generate a python range of 99 integers in a memory at once.\\n\\nxrange() functions returns an xrange object i.e xrange only stores the range arguments and generates \\nthe number on demand. It produces number one by one instead of generating all numbers at once like \\nrange(), more like a looping concept.\\nLike, in every iteration of for loop, it generates the next number and assigns it to the iterator \\nvariable of for loop.\\n'"
      ]
     },
     "execution_count": 9,
     "metadata": {},
     "output_type": "execute_result"
    }
   ],
   "source": [
    "# Difference between range and xrange.\n",
    "'''\n",
    "We have xrange() function only in Python 2. In python 3, there is only range() function which behaves\n",
    "like the xrange() function in Python 2.\n",
    "xrange() and range() both produce the integer numbr given between the range of start value and stop\n",
    "value i.e. range(1,5,1) will produce numbers 1,2,3,4 and xrange (1, 5, 1) will also produce the same\n",
    "numbers. Difference mainly lies how each of them generate the numbers. range() returns a python range\n",
    "object. range(1,100,1) will generate a python range of 99 integers in a memory at once.\n",
    "\n",
    "xrange() functions returns an xrange object i.e xrange only stores the range arguments and generates \n",
    "the number on demand. It produces number one by one instead of generating all numbers at once like \n",
    "range(), more like a looping concept.\n",
    "Like, in every iteration of for loop, it generates the next number and assigns it to the iterator \n",
    "variable of for loop.\n",
    "'''"
   ]
  },
  {
   "cell_type": "code",
   "execution_count": 28,
   "metadata": {},
   "outputs": [
    {
     "name": "stdout",
     "output_type": "stream",
     "text": [
      "This is local variable\n",
      "This is global variable\n"
     ]
    },
    {
     "ename": "NameError",
     "evalue": "name 'x' is not defined",
     "output_type": "error",
     "traceback": [
      "\u001b[1;31m---------------------------------------------------------------------------\u001b[0m",
      "\u001b[1;31mNameError\u001b[0m                                 Traceback (most recent call last)",
      "\u001b[1;32m<ipython-input-28-32934b904120>\u001b[0m in \u001b[0;36m<module>\u001b[1;34m\u001b[0m\n\u001b[0;32m     12\u001b[0m \u001b[1;33m\u001b[0m\u001b[0m\n\u001b[0;32m     13\u001b[0m \u001b[0mlocal_var\u001b[0m\u001b[1;33m(\u001b[0m\u001b[1;33m)\u001b[0m\u001b[1;33m\u001b[0m\u001b[1;33m\u001b[0m\u001b[0m\n\u001b[1;32m---> 14\u001b[1;33m \u001b[0mprint\u001b[0m\u001b[1;33m(\u001b[0m\u001b[0mx\u001b[0m\u001b[1;33m)\u001b[0m\u001b[1;33m\u001b[0m\u001b[1;33m\u001b[0m\u001b[0m\n\u001b[0m\u001b[0;32m     15\u001b[0m \u001b[0ms\u001b[0m \u001b[1;33m=\u001b[0m \u001b[1;34m\"This is global variable\"\u001b[0m\u001b[1;33m\u001b[0m\u001b[1;33m\u001b[0m\u001b[0m\n",
      "\u001b[1;31mNameError\u001b[0m: name 'x' is not defined"
     ]
    }
   ],
   "source": [
    "# What are global and local variables. Support your answer with coding.\n",
    "'''\n",
    "Global variables are those which are not defined inside any function and have a global scope i.e., a \n",
    "global variable value is accessible throughout the program whereas local variables are those which are\n",
    "defined inside a function and its scope is limited to that function only.\n",
    "'''\n",
    "\n",
    "def local_var():\n",
    "    x = \"This is local variable\"\n",
    "    print(x)\n",
    "    print(s)\n",
    "\n",
    "local_var()\n",
    "print(x)\n",
    "s = \"This is global variable\""
   ]
  },
  {
   "cell_type": "code",
   "execution_count": null,
   "metadata": {},
   "outputs": [],
   "source": [
    "# Difference between Python 2 and Python 3.\n",
    "\n",
    "'''\n",
    "In Python 2, print is considered to be a statement and not a function.\n",
    "In Python 3, print is considered to be a function and not a statement.\n",
    "\n",
    "In Python 2, strings are stored as ASCII by default.\n",
    "In Python 3, strings are stored as UNICODE by default.\n",
    "\n",
    "In Python 2, the xrange() function has been defined for iterations.\n",
    "In Python 3, the new range() function was introduced to perform iterations.\n",
    "\n",
    "The values of global variables do change in Python 2 if they are used inside a for-loop.\n",
    "The value of variables never changes in Python 3.\n",
    "\n",
    "On the division of two integers, we get an integral value in Python 2. For instance, 7/2 yields 3 in \n",
    "Python 2.\n",
    "On the division of two integers, we get a floating-point value in Python 3. For instance, 7/2 yields \n",
    "3.5 in Python 3.\n",
    "'''"
   ]
  },
  {
   "cell_type": "code",
   "execution_count": 31,
   "metadata": {},
   "outputs": [],
   "source": [
    "# What are mirrored Palindrome ? Write a program to check if a string is mirrored palindrome or not ?\n",
    "\n",
    "def check_Mirrored(word):\n",
    "    \n",
    "  #if not mirror char, we can eliminate immediately\n",
    "  not_mirrored = ['B', 'C', 'D', 'F', 'G', 'K', 'N', 'P', 'Q','R', '4', '6', '7', '8', '9']\n",
    "\n",
    "  for char in word:\n",
    "    if char in not_mirrored:\n",
    "      #auto emliminate\n",
    "      return False\n",
    "#if it has a mirrored character, we can use a dictionary for it\n",
    "#Do reverse keys, e.g. e - 3, 3 - e\n",
    "    mirror_dict = {'A': 'A',  'E': '3', '3': 'E', 'H': 'H', 'I': 'I', 'J': 'L', 'L': 'J', 'M': 'M', 'O': 'O', 'S': '2', 'T': 'T', 'U': 'U', 'V': 'V', 'W': 'W', 'X': 'X', 'Y': 'Y', 'Z': '5', '5': 'Z', '1': '1', '8': '8' } "
   ]
  },
  {
   "cell_type": "code",
   "execution_count": 36,
   "metadata": {},
   "outputs": [
    {
     "data": {
      "text/plain": [
       "'C:\\\\Users\\\\dell'"
      ]
     },
     "execution_count": 36,
     "metadata": {},
     "output_type": "execute_result"
    }
   ],
   "source": [
    "pwd"
   ]
  },
  {
   "cell_type": "code",
   "execution_count": null,
   "metadata": {},
   "outputs": [],
   "source": []
  }
 ],
 "metadata": {
  "kernelspec": {
   "display_name": "Python 3",
   "language": "python",
   "name": "python3"
  },
  "language_info": {
   "codemirror_mode": {
    "name": "ipython",
    "version": 3
   },
   "file_extension": ".py",
   "mimetype": "text/x-python",
   "name": "python",
   "nbconvert_exporter": "python",
   "pygments_lexer": "ipython3",
   "version": "3.8.5"
  }
 },
 "nbformat": 4,
 "nbformat_minor": 4
}
